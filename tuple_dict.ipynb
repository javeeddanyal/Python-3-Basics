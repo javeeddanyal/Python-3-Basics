{
 "cells": [
  {
   "cell_type": "code",
   "execution_count": 1,
   "metadata": {},
   "outputs": [
    {
     "name": "stdout",
     "output_type": "stream",
     "text": [
      "Enter name of the person(To stop don't enter anything and hi Enter key):Danyal\n",
      "Enter age:24\n",
      "Enter name of the person(To stop don't enter anything and hi Enter key):Ahmed\n",
      "Enter age:2\n",
      "Enter name of the person(To stop don't enter anything and hi Enter key):Bilal\n",
      "Enter age:28\n",
      "Enter name of the person(To stop don't enter anything and hi Enter key):Sana\n",
      "Enter age:17\n",
      "Enter name of the person(To stop don't enter anything and hi Enter key):Khan\n",
      "Enter age:67\n",
      "Enter name of the person(To stop don't enter anything and hi Enter key):\n",
      "Building dictionary is complete.Now enter name of the person and I'll tell you his/her age\n",
      "Enter name of the person(To stop don't enter anything and hi Enter key):Ahmed\n",
      "Age of Ahmed is: 2\n",
      "Enter name of the person(To stop don't enter anything and hi Enter key):\n",
      "Age dictionary program is finished now\n",
      "sum: 10 multipication: 24  Input numbers: 4 and 6\n"
     ]
    }
   ],
   "source": [
    "def add_and_multiple(n1,n2):\n",
    "    '''\n",
    "    Exercise 2\n",
    "    :param n1: Number 1\n",
    "    :param n2: Number 2\n",
    "    :return: a tuple containing sum and multiplication of two input numbers\n",
    "    '''\n",
    "    sum = n1 + n2\n",
    "    mult = n1 * n2\n",
    "    return sum, mult\n",
    "\n",
    "def age_dictionary():\n",
    "    '''\n",
    "    Exercise 1\n",
    "    This program asks for person name and age and builds a dictionary using that\n",
    "    Later on you can input person name and it will tell you the age of that person\n",
    "    :return:\n",
    "    '''\n",
    "    d = {}\n",
    "    while True:\n",
    "        person = input(\"Enter name of the person(To stop don't enter anything and hi Enter key):\")\n",
    "        if person == '':\n",
    "            break\n",
    "        age = input(\"Enter age:\")\n",
    "        d[person] = age\n",
    "\n",
    "    print(\"Building dictionary is complete.Now enter name of the person and I'll tell you his/her age\")\n",
    "    while True:\n",
    "        name = input(\"Enter name of the person(To stop don't enter anything and hi Enter key):\")\n",
    "        if name == '':\n",
    "            break\n",
    "        if name in d:\n",
    "            print (\"Age of\", name, \"is:\", d[name])\n",
    "        else:\n",
    "            print (\"I don't know the age of\",name)\n",
    "    print (\"Age dictionary program is finished now\")\n",
    "\n",
    "# Exercise 1\n",
    "age_dictionary()\n",
    "\n",
    "# Exercise 2\n",
    "n1=4\n",
    "n2=6\n",
    "s,m=add_and_multiple(n1,n2)\n",
    "print(\"sum:\",s,\"multipication:\",m,\" Input numbers:\",n1,\"and\",n2)"
   ]
  }
 ],
 "metadata": {
  "kernelspec": {
   "display_name": "Python 3",
   "language": "python",
   "name": "python3"
  },
  "language_info": {
   "codemirror_mode": {
    "name": "ipython",
    "version": 3
   },
   "file_extension": ".py",
   "mimetype": "text/x-python",
   "name": "python",
   "nbconvert_exporter": "python",
   "pygments_lexer": "ipython3",
   "version": "3.6.4"
  }
 },
 "nbformat": 4,
 "nbformat_minor": 2
}
