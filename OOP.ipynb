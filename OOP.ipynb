{
 "cells": [
  {
   "cell_type": "code",
   "execution_count": 1,
   "metadata": {},
   "outputs": [
    {
     "name": "stdout",
     "output_type": "stream",
     "text": [
      "20\n",
      "13.090909090909092\n"
     ]
    }
   ],
   "source": [
    "class calculator:\n",
    "    def addition (x,y):\n",
    "        added = x + y\n",
    "        print(added)\n",
    "    def subtraction(x,y):\n",
    "        sub = x - y\n",
    "        print(sub)\n",
    "    def multiplication(x,y):\n",
    "        mult = x * y\n",
    "        print(mult)\n",
    "    def division (x,y):\n",
    "        div = x / y\n",
    "        print(div)\n",
    "calculator.multiplication(4,5)\n",
    "calculator.division(144,11)"
   ]
  },
  {
   "cell_type": "code",
   "execution_count": 2,
   "metadata": {},
   "outputs": [
    {
     "name": "stdout",
     "output_type": "stream",
     "text": [
      "such a great module\n"
     ]
    }
   ],
   "source": [
    "def epic():\n",
    "    print('Wow this is great')\n",
    "    \n",
    "if __name__ == '__main__':\n",
    "    print(\"such a great module\")"
   ]
  },
  {
   "cell_type": "code",
   "execution_count": 3,
   "metadata": {},
   "outputs": [
    {
     "name": "stdout",
     "output_type": "stream",
     "text": [
      "Calling from the file\n"
     ]
    }
   ],
   "source": [
    "import new\n",
    "\n",
    "new.epic()"
   ]
  },
  {
   "cell_type": "code",
   "execution_count": 5,
   "metadata": {},
   "outputs": [
    {
     "name": "stdout",
     "output_type": "stream",
     "text": [
      "What is your name? Danyal\n",
      "Hello Danyal\n"
     ]
    }
   ],
   "source": [
    "x = input('What is your name? ')\n",
    "\n",
    "print('Hello',x)"
   ]
  }
 ],
 "metadata": {
  "kernelspec": {
   "display_name": "Python 3",
   "language": "python",
   "name": "python3"
  },
  "language_info": {
   "codemirror_mode": {
    "name": "ipython",
    "version": 3
   },
   "file_extension": ".py",
   "mimetype": "text/x-python",
   "name": "python",
   "nbconvert_exporter": "python",
   "pygments_lexer": "ipython3",
   "version": "3.6.4"
  }
 },
 "nbformat": 4,
 "nbformat_minor": 2
}
