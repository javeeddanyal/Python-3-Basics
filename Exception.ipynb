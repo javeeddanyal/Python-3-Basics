{
 "cells": [
  {
   "cell_type": "code",
   "execution_count": 1,
   "metadata": {},
   "outputs": [
    {
     "name": "stdout",
     "output_type": "stream",
     "text": [
      "Enter number1: 12\n",
      "Enter number2: 44\n",
      "Division is:  0.2727272727272727\n"
     ]
    }
   ],
   "source": [
    "x=input(\"Enter number1: \")\n",
    "y=input(\"Enter number2: \")\n",
    "try:\n",
    "    z = int(x) / int(y)\n",
    "except ZeroDivisionError as e:\n",
    "    print('Division by zero exception')\n",
    "    z = None\n",
    "except TypeError as e:\n",
    "    print('Type error exception')\n",
    "    z = None\n",
    "print(\"Division is: \", z)"
   ]
  },
  {
   "cell_type": "code",
   "execution_count": 2,
   "metadata": {},
   "outputs": [
    {
     "name": "stdout",
     "output_type": "stream",
     "text": [
      "cleaning up file\n"
     ]
    }
   ],
   "source": [
    "# raise exception\n",
    "def process_file():\n",
    "   try:\n",
    "       f=open(\"/home/danyal/Python-3-Basics/input.txt\")\n",
    "       x=1/1\n",
    "   except FileNotFoundError as e:\n",
    "       print(\"inside except\")\n",
    "   finally:\n",
    "       print(\"cleaning up file\")\n",
    "       f.close()\n",
    "\n",
    "process_file()"
   ]
  }
 ],
 "metadata": {
  "kernelspec": {
   "display_name": "Python 3",
   "language": "python",
   "name": "python3"
  },
  "language_info": {
   "codemirror_mode": {
    "name": "ipython",
    "version": 3
   },
   "file_extension": ".py",
   "mimetype": "text/x-python",
   "name": "python",
   "nbconvert_exporter": "python",
   "pygments_lexer": "ipython3",
   "version": "3.6.4"
  }
 },
 "nbformat": 4,
 "nbformat_minor": 2
}
