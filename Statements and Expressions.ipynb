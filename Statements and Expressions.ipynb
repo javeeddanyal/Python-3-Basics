{
 "cells": [
  {
   "cell_type": "code",
   "execution_count": 1,
   "metadata": {
    "scrolled": true
   },
   "outputs": [
    {
     "name": "stdout",
     "output_type": "stream",
     "text": [
      "a is less than b\n"
     ]
    }
   ],
   "source": [
    "a = 1\n",
    "b = 2\n",
    "if a < b:\n",
    "    print(\"a is less than b\")\n",
    "else:\n",
    "    print(\"a is NOT less than b\")"
   ]
  },
  {
   "cell_type": "code",
   "execution_count": 2,
   "metadata": {},
   "outputs": [
    {
     "name": "stdout",
     "output_type": "stream",
     "text": [
      "c is greater by more than 12\n"
     ]
    }
   ],
   "source": [
    "c = 20\n",
    "f = 7\n",
    "if c < f:\n",
    "    print(\"c is less than f\")\n",
    "elif c == f:\n",
    "    print(\"c is equal to f\")\n",
    "elif c > f + 12:\n",
    "    print(\"c is greater by more than 12\")\n",
    "else:\n",
    "    print(\"c is greater than f\")"
   ]
  },
  {
   "cell_type": "code",
   "execution_count": 3,
   "metadata": {},
   "outputs": [
    {
     "name": "stdout",
     "output_type": "stream",
     "text": [
      "BMI: 16.0\n",
      "Danyal\n",
      "Is not overweight\n"
     ]
    }
   ],
   "source": [
    "#Body mass index calculator (BMI) \n",
    "name = \"Danyal\"\n",
    "height_m = 2\n",
    "weight_kg = 64\n",
    "\n",
    "bmi = weight_kg / (height_m ** 2)\n",
    "print(\"BMI:\",bmi)\n",
    "if bmi < 25:\n",
    "    print(name)\n",
    "    print(\"Is not overweight\")\n",
    "else:\n",
    "    print(name)\n",
    "    print(\"Is overweight\")"
   ]
  },
  {
   "cell_type": "code",
   "execution_count": 4,
   "metadata": {},
   "outputs": [
    {
     "name": "stdout",
     "output_type": "stream",
     "text": [
      "4\n",
      "27\n",
      "256\n",
      "3125\n",
      "46656\n"
     ]
    }
   ],
   "source": [
    "#exponents\n",
    "print(2**2)#2*2\n",
    "print(3**3)#3*3*3\n",
    "print(4**4)#4*4*4*4\n",
    "print(5**5)#5*5*5*5*5\n",
    "print(6**6)#6*6*6*6*6*6"
   ]
  },
  {
   "cell_type": "code",
   "execution_count": 5,
   "metadata": {},
   "outputs": [
    {
     "name": "stdout",
     "output_type": "stream",
     "text": [
      "1\n",
      "2\n",
      "3\n",
      "4\n",
      "5\n",
      "6\n",
      "7\n",
      "8\n",
      "9\n",
      "10\n",
      "11\n"
     ]
    }
   ],
   "source": [
    "value = 1\n",
    "\n",
    "while value < 12:\n",
    "    print(value)\n",
    "    value += 1"
   ]
  },
  {
   "cell_type": "code",
   "execution_count": 6,
   "metadata": {},
   "outputs": [
    {
     "data": {
      "text/plain": [
       "'\\nx = 5;\\nwhile True:\\n    print(x)\\n    x += 1\\nbreak;\\n'"
      ]
     },
     "execution_count": 6,
     "metadata": {},
     "output_type": "execute_result"
    }
   ],
   "source": [
    "#Infinite loop\n",
    "'''\n",
    "x = 5;\n",
    "while True:\n",
    "    print(x)\n",
    "    x += 1\n",
    "break;\n",
    "'''"
   ]
  },
  {
   "cell_type": "code",
   "execution_count": 8,
   "metadata": {},
   "outputs": [
    {
     "name": "stdout",
     "output_type": "stream",
     "text": [
      "The sum of 5 number is : 10\n"
     ]
    }
   ],
   "source": [
    "a = 1;\n",
    "b = 0\n",
    "while (a < 10):\n",
    "    b = b + a\n",
    "    a = a + 1\n",
    "    if (a == 5):\n",
    "        break\n",
    "else:\n",
    "    print('The sum of first 9 integers:' ,b)\n",
    "print('The sum of',a,'number is :', b)"
   ]
  },
  {
   "cell_type": "code",
   "execution_count": null,
   "metadata": {},
   "outputs": [],
   "source": []
  }
 ],
 "metadata": {
  "kernelspec": {
   "display_name": "Python 3",
   "language": "python",
   "name": "python3"
  },
  "language_info": {
   "codemirror_mode": {
    "name": "ipython",
    "version": 3
   },
   "file_extension": ".py",
   "mimetype": "text/x-python",
   "name": "python",
   "nbconvert_exporter": "python",
   "pygments_lexer": "ipython3",
   "version": "3.6.4"
  }
 },
 "nbformat": 4,
 "nbformat_minor": 2
}
