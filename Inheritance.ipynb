{
 "cells": [
  {
   "cell_type": "code",
   "execution_count": 1,
   "metadata": {},
   "outputs": [
    {
     "name": "stdout",
     "output_type": "stream",
     "text": [
      "I'm car\n",
      "I'm motor cycle\n",
      "False\n"
     ]
    }
   ],
   "source": [
    "class Vehicle:\n",
    "    def general_usage(self):\n",
    "        print(\"general use: transporation\")\n",
    "\n",
    "class Car(Vehicle):\n",
    "    def __init__(self):\n",
    "        print(\"I'm car\")\n",
    "        self.wheels = 4\n",
    "        self.has_roof = True\n",
    "\n",
    "    def specific_usage(self):\n",
    "        self.general_usage()\n",
    "        print(\"specific use: commute to work, vacation with family\")\n",
    "\n",
    "class MotorCycle(Vehicle):\n",
    "    def __init__(self):\n",
    "        print(\"I'm motor cycle\")\n",
    "        self.wheels = 2\n",
    "        self.has_roof = False\n",
    "\n",
    "    def specific_usage(self):\n",
    "        self.general_usage()\n",
    "        print(\"specific use: road trip, racing\")\n",
    "\n",
    "c = Car()\n",
    "m = MotorCycle()\n",
    "\n",
    "print(issubclass(Car,MotorCycle))"
   ]
  },
  {
   "cell_type": "code",
   "execution_count": 2,
   "metadata": {},
   "outputs": [
    {
     "name": "stdout",
     "output_type": "stream",
     "text": [
      "gardening, programming\n",
      "cooking, swimming, reading AI security articles\n",
      "sports\n"
     ]
    }
   ],
   "source": [
    "# Multiple Inheritance\n",
    "class Father():\n",
    "   def skills(self):\n",
    "       print(\"gardening, programming\")\n",
    "\n",
    "class Mother():\n",
    "   def skills(self):\n",
    "       print(\"cooking, swimming, reading AI security articles\")\n",
    "\n",
    "class Child(Father,Mother):\n",
    "    def skills(self):\n",
    "        Father.skills(self)\n",
    "        Mother.skills(self)\n",
    "        print(\"sports\")\n",
    "\n",
    "c = Child()\n",
    "c.skills()"
   ]
  }
 ],
 "metadata": {
  "kernelspec": {
   "display_name": "Python 3",
   "language": "python",
   "name": "python3"
  },
  "language_info": {
   "codemirror_mode": {
    "name": "ipython",
    "version": 3
   },
   "file_extension": ".py",
   "mimetype": "text/x-python",
   "name": "python",
   "nbconvert_exporter": "python",
   "pygments_lexer": "ipython3",
   "version": "3.6.4"
  }
 },
 "nbformat": 4,
 "nbformat_minor": 2
}
