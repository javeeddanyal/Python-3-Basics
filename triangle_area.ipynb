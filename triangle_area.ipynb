{
 "cells": [
  {
   "cell_type": "code",
   "execution_count": 1,
   "metadata": {},
   "outputs": [
    {
     "name": "stdout",
     "output_type": "stream",
     "text": [
      "I am in area.py\n",
      "__name__:  __main__\n",
      "area:  100.0\n"
     ]
    }
   ],
   "source": [
    "def calculate_area(base, height):\n",
    "    print(\"__name__: \",__name__)\n",
    "    return 1/2*(base*height)\n",
    "\n",
    "if __name__ == \"__main__\":\n",
    "    print(\"I am in area.py\")\n",
    "    a = calculate_area(10, 20)\n",
    "    print(\"area: \",a)"
   ]
  }
 ],
 "metadata": {
  "kernelspec": {
   "display_name": "Python 3",
   "language": "python",
   "name": "python3"
  },
  "language_info": {
   "codemirror_mode": {
    "name": "ipython",
    "version": 3
   },
   "file_extension": ".py",
   "mimetype": "text/x-python",
   "name": "python",
   "nbconvert_exporter": "python",
   "pygments_lexer": "ipython3",
   "version": "3.6.4"
  }
 },
 "nbformat": 4,
 "nbformat_minor": 2
}
