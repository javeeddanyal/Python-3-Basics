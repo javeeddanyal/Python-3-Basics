{
 "cells": [
  {
   "cell_type": "code",
   "execution_count": 1,
   "metadata": {},
   "outputs": [
    {
     "name": "stdout",
     "output_type": "stream",
     "text": [
      "total expense is:  81459\n"
     ]
    }
   ],
   "source": [
    "expense_list = [1230, 2240, 1500, 1678, 2020, 1580, 2240, 1500, 1245, 2300, 1246, 3400, 1580, 2240, 1500, 3240, 2240, 1500, 1245, 2300, 1246, 3400, 1580, 2240, 2467, 1245, 2300, 1246, 3400, 1580, 2240, 1500, 3240, 2240, 1500, 1245, 2300, 1246, 3400, 1580, 2240]\n",
    "total_expense = 0\n",
    "for expense in expense_list:\n",
    "    total_expense += expense\n",
    "\n",
    "print(\"total expense is: \", total_expense)"
   ]
  }
 ],
 "metadata": {
  "kernelspec": {
   "display_name": "Python 3",
   "language": "python",
   "name": "python3"
  },
  "language_info": {
   "codemirror_mode": {
    "name": "ipython",
    "version": 3
   },
   "file_extension": ".py",
   "mimetype": "text/x-python",
   "name": "python",
   "nbconvert_exporter": "python",
   "pygments_lexer": "ipython3",
   "version": "3.6.4"
  }
 },
 "nbformat": 4,
 "nbformat_minor": 2
}
