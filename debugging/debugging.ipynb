{
 "cells": [
  {
   "cell_type": "code",
   "execution_count": 1,
   "metadata": {},
   "outputs": [
    {
     "name": "stdout",
     "output_type": "stream",
     "text": [
      "enter first number:12\n",
      "enter second number:23\n",
      "sum is:  35\n"
     ]
    }
   ],
   "source": [
    "def add_num(a,b):\n",
    "    '''Return sum of two numbers'''\n",
    "    s=a+b\n",
    "    return s\n",
    "\n",
    "n1=input('enter first number:')\n",
    "n1=int(n1)\n",
    "n2=input('enter second number:')\n",
    "n2=int(n2)\n",
    "s = add_num(n1,n2)\n",
    "print ('sum is: ',s);"
   ]
  }
 ],
 "metadata": {
  "kernelspec": {
   "display_name": "Python 3",
   "language": "python",
   "name": "python3"
  },
  "language_info": {
   "codemirror_mode": {
    "name": "ipython",
    "version": 3
   },
   "file_extension": ".py",
   "mimetype": "text/x-python",
   "name": "python",
   "nbconvert_exporter": "python",
   "pygments_lexer": "ipython3",
   "version": "3.6.4"
  }
 },
 "nbformat": 4,
 "nbformat_minor": 2
}
