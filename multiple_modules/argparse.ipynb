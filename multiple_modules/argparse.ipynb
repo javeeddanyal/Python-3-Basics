{
 "cells": [
  {
   "cell_type": "code",
   "execution_count": 1,
   "metadata": {},
   "outputs": [
    {
     "name": "stderr",
     "output_type": "stream",
     "text": [
      "usage: ipykernel_launcher.py [-h] [--number1 NUMBER1] [--number2 NUMBER2]\n",
      "                             [--operation {add,subtract,multiply}]\n",
      "ipykernel_launcher.py: error: unrecognized arguments: -f /run/user/1000/jupyter/kernel-f4799ce3-42f3-4dbd-a0ba-d05c727e0bbc.json\n"
     ]
    },
    {
     "ename": "SystemExit",
     "evalue": "2",
     "output_type": "error",
     "traceback": [
      "An exception has occurred, use %tb to see the full traceback.\n",
      "\u001b[0;31mSystemExit\u001b[0m\u001b[0;31m:\u001b[0m 2\n"
     ]
    },
    {
     "name": "stderr",
     "output_type": "stream",
     "text": [
      "/home/danyal/anaconda3/lib/python3.6/site-packages/IPython/core/interactiveshell.py:2918: UserWarning: To exit: use 'exit', 'quit', or Ctrl-D.\n",
      "  warn(\"To exit: use 'exit', 'quit', or Ctrl-D.\", stacklevel=1)\n"
     ]
    }
   ],
   "source": [
    "import argparse\n",
    "\n",
    "if __name__ == \"__main__\":\n",
    "    parser = argparse.ArgumentParser()\n",
    "    parser.add_argument(\"--number1\", help=\"first number\")\n",
    "    parser.add_argument(\"--number2\", help=\"second number\")\n",
    "    parser.add_argument(\"--operation\", help=\"operation\",\\\n",
    "                        choices=[\"add\",\"subtract\",\"multiply\"])\n",
    "\n",
    "    args = parser.parse_args()\n",
    "\n",
    "    print(args.number1)\n",
    "    print(args.number2)\n",
    "    print(args.operation)\n",
    "\n",
    "    n1=int(args.number1)\n",
    "    n2=int(args.number2)\n",
    "    result = None\n",
    "    if args.operation == \"add\":\n",
    "        result=n1+n2\n",
    "    elif args.operation == \"subtract\":\n",
    "        result=n1-n2\n",
    "    elif args.operation == \"multiply\":\n",
    "        result=n1*n2\n",
    "\n",
    "    print(\"Result:\",result)"
   ]
  }
 ],
 "metadata": {
  "kernelspec": {
   "display_name": "Python 3",
   "language": "python",
   "name": "python3"
  },
  "language_info": {
   "codemirror_mode": {
    "name": "ipython",
    "version": 3
   },
   "file_extension": ".py",
   "mimetype": "text/x-python",
   "name": "python",
   "nbconvert_exporter": "python",
   "pygments_lexer": "ipython3",
   "version": "3.6.4"
  }
 },
 "nbformat": 4,
 "nbformat_minor": 2
}
