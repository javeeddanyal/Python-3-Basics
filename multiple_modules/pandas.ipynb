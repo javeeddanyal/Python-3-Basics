{
 "cells": [
  {
   "cell_type": "code",
   "execution_count": 4,
   "metadata": {},
   "outputs": [
    {
     "name": "stdout",
     "output_type": "stream",
     "text": [
      "0      Jan\n",
      "1      Feb\n",
      "2    March\n",
      "3    April\n",
      "Name: Month, dtype: object\n"
     ]
    }
   ],
   "source": [
    "import pandas as pd\n",
    "\n",
    "stats = {\n",
    "    'Month': ['Jan', 'Feb', 'March', 'April'],\n",
    "    'Expenses': [2350, 3400, 2700, 2200],\n",
    "    'Income': [4000, 4000, 4000, 4000]\n",
    "}\n",
    "\n",
    "df = pd.DataFrame(stats)\n",
    "print(df.Month)"
   ]
  }
 ],
 "metadata": {
  "kernelspec": {
   "display_name": "Python 3",
   "language": "python",
   "name": "python3"
  },
  "language_info": {
   "codemirror_mode": {
    "name": "ipython",
    "version": 3
   },
   "file_extension": ".py",
   "mimetype": "text/x-python",
   "name": "python",
   "nbconvert_exporter": "python",
   "pygments_lexer": "ipython3",
   "version": "3.6.4"
  }
 },
 "nbformat": 4,
 "nbformat_minor": 2
}
