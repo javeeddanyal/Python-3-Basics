{
 "cells": [
  {
   "cell_type": "code",
   "execution_count": 1,
   "metadata": {},
   "outputs": [],
   "source": [
    "#writing to a file\n",
    "text = 'Sample Text to save\\nNew line'\n",
    "saveFile = open('exampleFile.txt', 'w')\n",
    "saveFile.write(text)\n",
    "saveFile.close()"
   ]
  },
  {
   "cell_type": "code",
   "execution_count": 2,
   "metadata": {},
   "outputs": [],
   "source": [
    "#Appending Files\n",
    "appendMe = '\\nNew bit of information'\n",
    "appendFile = open('exampleFile.txt', 'a')\n",
    "appendFile.write(appendMe)\n",
    "appendFile.close()"
   ]
  },
  {
   "cell_type": "code",
   "execution_count": 3,
   "metadata": {},
   "outputs": [],
   "source": [
    "def count_num_in_file(file_path, num):\n",
    "    count = 0\n",
    "    with open(file_path,\"r\") as f:\n",
    "        for line in f.readlines():\n",
    "            tokens = line.split(\",\")\n",
    "            count += count_num_in_tokens(tokens, num)\n",
    "\n",
    "    return count\n",
    "\n",
    "def count_num_in_tokens(tokens, num):\n",
    "    count = 0\n",
    "    for token in tokens:\n",
    "        if num == int(token):\n",
    "            count+=1\n",
    "    return count\n",
    "\n",
    "\n",
    "def sum_numbers(file_path):\n",
    "    output_lines = []\n",
    "    with open(file_path,\"r\") as f:\n",
    "        for line in f.readlines():\n",
    "            tokens = line.split(\",\")\n",
    "            total = sum_tokens(tokens)\n",
    "            output_lines.append(\"sum: \" + str(total) + \" | \" + line)\n",
    "    with open(file_path,\"w\") as f:\n",
    "        f.writelines(output_lines)\n",
    "\n",
    "def sum_tokens(tokens):\n",
    "    sum = 0\n",
    "    for token in tokens:\n",
    "        sum += int(token)\n",
    "    return sum\n",
    "\n",
    "sum_numbers('/home/danyal/Python-3 Basics/input.txt')"
   ]
  },
  {
   "cell_type": "code",
   "execution_count": 4,
   "metadata": {},
   "outputs": [
    {
     "name": "stdout",
     "output_type": "stream",
     "text": [
      "['Sample Text to save\\n', 'New line\\n', 'New bit of information']\n"
     ]
    }
   ],
   "source": [
    "#Reading text file\n",
    "readMe = open('exampleFile.txt', 'r').readlines()\n",
    "print(readMe)"
   ]
  },
  {
   "cell_type": "code",
   "execution_count": 5,
   "metadata": {},
   "outputs": [
    {
     "name": "stdout",
     "output_type": "stream",
     "text": [
      "(768, 9)\n"
     ]
    }
   ],
   "source": [
    "# Load CSV (using python)\n",
    "import csv\n",
    "import numpy\n",
    "filename = '/home/danyal/Python-3 Basics/data/pima-indians-diabetes.data.csv'\n",
    "raw_data = open(filename, 'rt')\n",
    "reader = csv.reader(raw_data, delimiter=',', quoting=csv.QUOTE_NONE)\n",
    "x = list(reader)\n",
    "data = numpy.array(x).astype('float')\n",
    "print(data.shape)"
   ]
  },
  {
   "cell_type": "code",
   "execution_count": 6,
   "metadata": {},
   "outputs": [
    {
     "name": "stdout",
     "output_type": "stream",
     "text": [
      "(768, 9)\n"
     ]
    }
   ],
   "source": [
    "# Load CSV with NumPy\n",
    "import numpy\n",
    "filename = '/home/danyal/Python-3 Basics/data/pima-indians-diabetes.data.csv'\n",
    "raw_data = open(filename, 'rt')\n",
    "data = numpy.loadtxt(raw_data, delimiter=\",\")\n",
    "print(data.shape)"
   ]
  },
  {
   "cell_type": "code",
   "execution_count": 7,
   "metadata": {},
   "outputs": [
    {
     "name": "stdout",
     "output_type": "stream",
     "text": [
      "(768, 9)\n"
     ]
    }
   ],
   "source": [
    "# Load CSV from URL using NumPy\n",
    "from numpy import loadtxt\n",
    "from urllib.request import urlopen\n",
    "url = 'https://raw.githubusercontent.com/jbrownlee/Datasets/master/pima-indians-diabetes.data.csv'\n",
    "raw_data = urlopen(url)\n",
    "dataset = loadtxt(raw_data, delimiter=\",\")\n",
    "print(dataset.shape)\n",
    "raw_data = urlopen(url)"
   ]
  },
  {
   "cell_type": "code",
   "execution_count": 8,
   "metadata": {},
   "outputs": [
    {
     "name": "stdout",
     "output_type": "stream",
     "text": [
      "(768, 9)\n"
     ]
    }
   ],
   "source": [
    "# Load CSV using Pandas\n",
    "import pandas\n",
    "filename = '/home/danyal/Python-3 Basics/data/pima-indians-diabetes.data.csv'\n",
    "names = ['preg', 'plas', 'pres', 'skin', 'test', 'mass', 'pedi', 'age', 'class']\n",
    "data = pandas.read_csv(filename, names=names)\n",
    "print(data.shape)"
   ]
  },
  {
   "cell_type": "code",
   "execution_count": 9,
   "metadata": {},
   "outputs": [
    {
     "name": "stdout",
     "output_type": "stream",
     "text": [
      "(768, 9)\n"
     ]
    }
   ],
   "source": [
    "# Load CSV using Pandas from URL\n",
    "import pandas\n",
    "url = \"https://raw.githubusercontent.com/jbrownlee/Datasets/master/pima-indians-diabetes.data.csv\"\n",
    "names = ['preg', 'plas', 'pres', 'skin', 'test', 'mass', 'pedi', 'age', 'class']\n",
    "data = pandas.read_csv(url, names=names)\n",
    "print(data.shape)"
   ]
  }
 ],
 "metadata": {
  "kernelspec": {
   "display_name": "Python 3",
   "language": "python",
   "name": "python3"
  },
  "language_info": {
   "codemirror_mode": {
    "name": "ipython",
    "version": 3
   },
   "file_extension": ".py",
   "mimetype": "text/x-python",
   "name": "python",
   "nbconvert_exporter": "python",
   "pygments_lexer": "ipython3",
   "version": "3.6.4"
  }
 },
 "nbformat": 4,
 "nbformat_minor": 2
}
