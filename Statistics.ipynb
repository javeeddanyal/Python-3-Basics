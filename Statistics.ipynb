{
 "cells": [
  {
   "cell_type": "code",
   "execution_count": 2,
   "metadata": {},
   "outputs": [
    {
     "name": "stdout",
     "output_type": "stream",
     "text": [
      "Mean 26.307692307692307\n",
      "Median 7\n",
      "Standard Deviation 34.291360951374266\n",
      "Variance 1175.8974358974358\n"
     ]
    }
   ],
   "source": [
    "import statistics \n",
    "\n",
    "data_list = [ 3,4,5,2,6,7,89,66,7,88,53,3,9]\n",
    "\n",
    "x = statistics.mean(data_list)\n",
    "y = statistics.median(data_list)\n",
    "z = statistics.stdev(data_list)\n",
    "xx = statistics.variance(data_list)\n",
    "\n",
    "print('Mean', x)\n",
    "print('Median', y)\n",
    "print('Standard Deviation', z)\n",
    "print('Variance', xx)"
   ]
  },
  {
   "cell_type": "code",
   "execution_count": 8,
   "metadata": {},
   "outputs": [
    {
     "name": "stdout",
     "output_type": "stream",
     "text": [
      "Mean 26.307692307692307\n",
      "Median 7\n",
      "Standard Deviation 34.291360951374266\n",
      "Variance 1175.8974358974358\n"
     ]
    }
   ],
   "source": [
    "#import statistics as stat\n",
    "#from statistics import variance, mean, median, stdev\n",
    "from statistics import *\n",
    "\n",
    "data_list = [ 3,4,5,2,6,7,89,66,7,88,53,3,9]\n",
    "\n",
    "x = mean(data_list)\n",
    "y = median(data_list)\n",
    "z = stdev(data_list)\n",
    "xx = variance(data_list)\n",
    "\n",
    "print('Mean', x)\n",
    "print('Median', y)\n",
    "print('Standard Deviation', z)\n",
    "print('Variance', xx)\n"
   ]
  },
  {
   "cell_type": "code",
   "execution_count": null,
   "metadata": {},
   "outputs": [],
   "source": []
  }
 ],
 "metadata": {
  "kernelspec": {
   "display_name": "Python 3",
   "language": "python",
   "name": "python3"
  },
  "language_info": {
   "codemirror_mode": {
    "name": "ipython",
    "version": 3
   },
   "file_extension": ".py",
   "mimetype": "text/x-python",
   "name": "python",
   "nbconvert_exporter": "python",
   "pygments_lexer": "ipython3",
   "version": "3.6.4"
  }
 },
 "nbformat": 4,
 "nbformat_minor": 2
}
