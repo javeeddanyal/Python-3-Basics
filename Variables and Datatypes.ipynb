{
 "cells": [
  {
   "cell_type": "markdown",
   "metadata": {},
   "source": [
    "# Python-3 Basics\n",
    "\n",
    "Repository for understanding basic **syntax** of Python-3 language.\n",
    "\n",
    "## What this notebook shows\n",
    "\n",
    "* Python-3 Basics\n",
    "\n",
    "### Variables and Datatypes\n",
    "\n",
    "* boolean\n",
    "* integer\n",
    "* long\n",
    "* float\n",
    "* string\n",
    "* list\n",
    "* object\n",
    "* None"
   ]
  },
  {
   "cell_type": "code",
   "execution_count": 1,
   "metadata": {},
   "outputs": [
    {
     "name": "stdout",
     "output_type": "stream",
     "text": [
      "Hello World\n",
      "More Strings\n"
     ]
    }
   ],
   "source": [
    "print(\"Hello World\")\n",
    "print('More Strings')"
   ]
  },
  {
   "cell_type": "code",
   "execution_count": 2,
   "metadata": {},
   "outputs": [
    {
     "name": "stdout",
     "output_type": "stream",
     "text": [
      "Joining Integer and Floats for Arithmetic Operations: 1993.0\n"
     ]
    }
   ],
   "source": [
    "print('Joining Integer and Floats for Arithmetic Operations:', 1993.00)"
   ]
  },
  {
   "cell_type": "code",
   "execution_count": 3,
   "metadata": {},
   "outputs": [
    {
     "name": "stdout",
     "output_type": "stream",
     "text": [
      "Joining Integer and Floats for Arithmetic Operations 1993.0\n"
     ]
    }
   ],
   "source": [
    "print('Joining Integer and Floats for Arithmetic Operations', +1993.00)"
   ]
  },
  {
   "cell_type": "code",
   "execution_count": 4,
   "metadata": {},
   "outputs": [
    {
     "name": "stdout",
     "output_type": "stream",
     "text": [
      "Joining Integer and Floats for Arithmetic Operations 1993\n"
     ]
    }
   ],
   "source": [
    "print('Joining Integer and Floats for Arithmetic Operations', +1993)"
   ]
  },
  {
   "cell_type": "code",
   "execution_count": 5,
   "metadata": {},
   "outputs": [
    {
     "name": "stdout",
     "output_type": "stream",
     "text": [
      "1 2 string\n"
     ]
    }
   ],
   "source": [
    "#Variables\n",
    "a = 1\n",
    "b = 2\n",
    "c = 'string' \n",
    "print(a,b,c)"
   ]
  },
  {
   "cell_type": "code",
   "execution_count": 6,
   "metadata": {},
   "outputs": [
    {
     "name": "stdout",
     "output_type": "stream",
     "text": [
      "I'll be your side leading the way\n"
     ]
    }
   ],
   "source": [
    "print('I\\'ll be your side leading the way')"
   ]
  },
  {
   "cell_type": "code",
   "execution_count": 7,
   "metadata": {},
   "outputs": [],
   "source": [
    "# Syntax Error\n",
    "#print('I'll be your side leading the way')\n",
    "#Single quotes are not able to solve word quotation rules"
   ]
  },
  {
   "cell_type": "code",
   "execution_count": 8,
   "metadata": {},
   "outputs": [
    {
     "name": "stdout",
     "output_type": "stream",
     "text": [
      "I'll be your side leading the way\n"
     ]
    }
   ],
   "source": [
    "print(\"I'll be your side leading the way\")"
   ]
  },
  {
   "cell_type": "code",
   "execution_count": 9,
   "metadata": {},
   "outputs": [
    {
     "name": "stdout",
     "output_type": "stream",
     "text": [
      "1\n"
     ]
    }
   ],
   "source": [
    "#Variable d refers to variable a value \n",
    "#Variable d is not storing variable a in it they are storing value of a variable in d \n",
    "d = a \n",
    "print(d)"
   ]
  },
  {
   "cell_type": "code",
   "execution_count": 10,
   "metadata": {},
   "outputs": [
    {
     "name": "stdout",
     "output_type": "stream",
     "text": [
      "Heythere\n",
      "Hey there\n"
     ]
    }
   ],
   "source": [
    "#String Concatenation\n",
    "print('Hey' + 'there')\n",
    "print('Hey '+ 'there') "
   ]
  },
  {
   "cell_type": "code",
   "execution_count": 11,
   "metadata": {},
   "outputs": [
    {
     "name": "stdout",
     "output_type": "stream",
     "text": [
      "Hey there\n"
     ]
    }
   ],
   "source": [
    "#String Concatenation without space\n",
    "print('Hey','there')"
   ]
  },
  {
   "cell_type": "code",
   "execution_count": 12,
   "metadata": {},
   "outputs": [],
   "source": [
    "#operands 5+ error\n",
    "#print(5+'Hey')"
   ]
  },
  {
   "cell_type": "code",
   "execution_count": 13,
   "metadata": {},
   "outputs": [
    {
     "name": "stdout",
     "output_type": "stream",
     "text": [
      "Hey5\n",
      "8\n",
      "8.2\n"
     ]
    }
   ],
   "source": [
    "print('Hey' + str(5))\n",
    "print(int('3')+5)\n",
    "print(float('3.20')+5)"
   ]
  },
  {
   "cell_type": "code",
   "execution_count": 14,
   "metadata": {},
   "outputs": [],
   "source": [
    "#Swapping two variables\n",
    "D1 = \"First string\"\n",
    "D2 = \"Second string\"\n",
    "temp = D1\n",
    "D1 = D2\n",
    "D2 = temp"
   ]
  },
  {
   "cell_type": "code",
   "execution_count": 15,
   "metadata": {},
   "outputs": [
    {
     "name": "stdout",
     "output_type": "stream",
     "text": [
      "Second string\n",
      "First string\n"
     ]
    }
   ],
   "source": [
    "print(D1)\n",
    "print(D2)"
   ]
  },
  {
   "cell_type": "markdown",
   "metadata": {},
   "source": [
    "### Variables, Numbers and Strings"
   ]
  },
  {
   "cell_type": "code",
   "execution_count": 16,
   "metadata": {},
   "outputs": [
    {
     "name": "stdout",
     "output_type": "stream",
     "text": [
      "Full Name: Gamal Abdel Naseer\n"
     ]
    }
   ],
   "source": [
    "####variables###\n",
    "#Former President of Egypt \"Gamal Abdel Nasser\"\n",
    "first = \"Gamal\"\n",
    "middle = \"Abdel\"\n",
    "last = \"Naseer\"\n",
    "print(\"Full Name:\",first,middle,last)\n"
   ]
  },
  {
   "cell_type": "code",
   "execution_count": 17,
   "metadata": {},
   "outputs": [
    {
     "name": "stdout",
     "output_type": "stream",
     "text": [
      "(1) - An area of triangle: 176.0\n",
      "(2) - Cash back: 1.5500000000000003\n",
      "(3) - Buy square foot of tiles: 42.25\n"
     ]
    }
   ],
   "source": [
    "###Numbers###\n",
    "\n",
    "#Find an area of a traingle: Area = ½*Base*Height\n",
    "#1)\n",
    "Base = 16\n",
    "Height = 22\n",
    "area = 1/2*(Base*Height)\n",
    "print(\"(1) - An area of triangle:\",area)\n",
    "\n",
    "# 5 packets of potato bought from a store. Each packet cost 0.69 Cents-Euros and you gave 5 Euros to the shopkeeper.\n",
    "# Find how many Euros you got back?.\n",
    "#2)\n",
    "num_packets = 5\n",
    "cost_per_packet = 0.69\n",
    "total_cost = num_packets*cost_per_packet\n",
    "money_paid = 5\n",
    "cash_back = money_paid-total_cost\n",
    "print(\"(2) - Cash back:\", cash_back)\n",
    "\n",
    "# The bathroom is an exact square. we want to replace tiles in it. length of toilet is 6.5 feet.\n",
    "# How many square foot of tiles you need to buy? Area = Length to the power of 2.\n",
    "length = 6.5\n",
    "area = length**2\n",
    "print(\"(3) - Buy square foot of tiles:\", area)"
   ]
  },
  {
   "cell_type": "code",
   "execution_count": 18,
   "metadata": {},
   "outputs": [
    {
     "name": "stdout",
     "output_type": "stream",
     "text": [
      "leading\n",
      "the way\n",
      "t\n",
      "(2) - I'll be your side leading the way\n",
      "I love eating vegetables and fruits\n",
      "I love eating 3 fruits everyday\n"
     ]
    }
   ],
   "source": [
    "###Strings###\n",
    "#Create a string variable  to store the text \"I'll be your side leading the way\"\n",
    "# (a) Print substring “leading” \n",
    "# (b) Print substring “the way” using negative index\n",
    "# 1)\n",
    "a = \"I'll be your side leading the way\"\n",
    "print(a[18:25])\n",
    "print(a[-7:])\n",
    "print(a[-7])\n",
    "# 2)\n",
    "# Create a string variable to store this text \"I'll be your side leading the way\" and print\n",
    "b = \"(2) - I'll be your side leading the way\"\n",
    "print(b)\n",
    "# 3) Create three string variables with values “I love eating“, “vegetable”, “fruits” \n",
    "# (a) Print “I love eating vegetables and fruits”\n",
    "# (b) Create fourth variable to store number of fruits you eat everyday.\n",
    "a1 = \"I love eating\"\n",
    "a2 = \"vegetables\"\n",
    "a3 = \"fruits\"\n",
    "print(a1+\" \" +a2+\" and \" +a3)\n",
    "num_fruits = 3\n",
    "print(a1+\" \"+str(num_fruits)+\" \"+a3+\" everyday\")"
   ]
  }
 ],
 "metadata": {
  "kernelspec": {
   "display_name": "Python 3",
   "language": "python",
   "name": "python3"
  },
  "language_info": {
   "codemirror_mode": {
    "name": "ipython",
    "version": 3
   },
   "file_extension": ".py",
   "mimetype": "text/x-python",
   "name": "python",
   "nbconvert_exporter": "python",
   "pygments_lexer": "ipython3",
   "version": "3.6.4"
  }
 },
 "nbformat": 4,
 "nbformat_minor": 2
}
