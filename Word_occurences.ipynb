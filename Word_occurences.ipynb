{
 "cells": [
  {
   "cell_type": "code",
   "execution_count": 2,
   "metadata": {},
   "outputs": [
    {
     "name": "stdout",
     "output_type": "stream",
     "text": [
      "{'Currently': 1, 'I': 1, 'am': 1, 'working': 1, 'on': 1, 'Medical': 1, 'datsets': 1, 'clinical': 2, 'Non': 1}\n"
     ]
    }
   ],
   "source": [
    "s = \"Currently I am working on Medical datsets clinical Non clinical\"\n",
    "\n",
    "tokens = s.split(\" \")\n",
    "d = {}\n",
    "for token in tokens:\n",
    "    if token in d:\n",
    "        d[token] += 1\n",
    "    else:\n",
    "        d[token] = 1\n",
    "\n",
    "print(d)"
   ]
  }
 ],
 "metadata": {
  "kernelspec": {
   "display_name": "Python 3",
   "language": "python",
   "name": "python3"
  },
  "language_info": {
   "codemirror_mode": {
    "name": "ipython",
    "version": 3
   },
   "file_extension": ".py",
   "mimetype": "text/x-python",
   "name": "python",
   "nbconvert_exporter": "python",
   "pygments_lexer": "ipython3",
   "version": "3.6.4"
  }
 },
 "nbformat": 4,
 "nbformat_minor": 2
}
