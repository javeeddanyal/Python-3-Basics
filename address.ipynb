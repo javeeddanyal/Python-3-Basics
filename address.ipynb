{
 "cells": [
  {
   "cell_type": "code",
   "execution_count": 1,
   "metadata": {},
   "outputs": [],
   "source": [
    "# Address\n",
    "book = {}\n",
    "book['Dnayal Javeed'] = {\n",
    "    'name': 'Danyal',\n",
    "    'address': '44 Bromberger street, Hannover',\n",
    "    'phone': 98989898\n",
    "}\n",
    "book['Imran Khan'] = {\n",
    "    'name': 'Imran',\n",
    "    'address': '44 Bromberger street, Hildesheim',\n",
    "    'phone': 23424234\n",
    "}\n",
    "\n",
    "import json\n",
    "s=json.dumps(book)\n",
    "with open(\"/home/danyal/Python-3-Basics/data/book.txt\",\"w\") as f:\n",
    "    f.write(s)"
   ]
  }
 ],
 "metadata": {
  "kernelspec": {
   "display_name": "Python 3",
   "language": "python",
   "name": "python3"
  },
  "language_info": {
   "codemirror_mode": {
    "name": "ipython",
    "version": 3
   },
   "file_extension": ".py",
   "mimetype": "text/x-python",
   "name": "python",
   "nbconvert_exporter": "python",
   "pygments_lexer": "ipython3",
   "version": "3.6.4"
  }
 },
 "nbformat": 4,
 "nbformat_minor": 2
}
